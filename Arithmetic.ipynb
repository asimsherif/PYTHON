{
  "nbformat": 4,
  "nbformat_minor": 0,
  "metadata": {
    "colab": {
      "name": "Untitled3.ipynb",
      "provenance": [],
      "authorship_tag": "ABX9TyNmUjNf1OR/8vRt9hGTzg/d",
      "include_colab_link": true
    },
    "kernelspec": {
      "name": "python3",
      "display_name": "Python 3"
    },
    "language_info": {
      "name": "python"
    }
  },
  "cells": [
    {
      "cell_type": "markdown",
      "metadata": {
        "id": "view-in-github",
        "colab_type": "text"
      },
      "source": [
        "<a href=\"https://colab.research.google.com/github/asimsherif/PYTHON/blob/main/py1.ipynb\" target=\"_parent\"><img src=\"https://colab.research.google.com/assets/colab-badge.svg\" alt=\"Open In Colab\"/></a>"
      ]
    },
    {
      "cell_type": "code",
      "execution_count": 2,
      "metadata": {
        "colab": {
          "base_uri": "https://localhost:8080/"
        },
        "id": "Ywf60TQISjlQ",
        "outputId": "70e3b583-3534-4227-e7b2-216ce755b7fc"
      },
      "outputs": [
        {
          "output_type": "stream",
          "name": "stdout",
          "text": [
            "Choice 1: Add, 2: Subraction, 3: Division, 4: Multiplication, 5: Quit\n",
            "Enter the choice of Operation :4\n",
            "You have chosen multiplication Option....\n",
            "Enter the value for A :3\n",
            "Enter the value for B :3\n",
            "The Result of  3  *  3  is  9\n"
          ]
        }
      ],
      "source": [
        "print(\"Choice 1: Add, 2: Subraction, 3: Division, 4: Multiplication, 5: Quit\")\n",
        "n1 = input(\"Enter the choice of Operation :\")\n",
        "n = int(n1)\n",
        "if (n == 1):\n",
        "  print(\"You have chosen addition Option....\")\n",
        "  a1 = input(\"Enter the value for A :\")\n",
        "  b1 = input(\"Enter the value for B :\")\n",
        "  a = int(a1)\n",
        "  b = int(b1)\n",
        "  c = a + b\n",
        "  print(\"The Result of \",a,\" + \",b,\" is \",c)\n",
        "elif (n == 2):\n",
        "  print(\"You have chosen subraction Option....\")\n",
        "  a1 = input(\"Enter the value for A :\")\n",
        "  b1 = input(\"Enter the value for B :\")\n",
        "  a = int(a1)\n",
        "  b = int(b1)\n",
        "  c = a - b\n",
        "  print(\"The Result of \",a,\" - \",b,\" is \",c)\n",
        "elif (n == 3):\n",
        "  print(\"You have chosen division Option....\")\n",
        "  a1 = input(\"Enter the value for A :\")\n",
        "  b1 = input(\"Enter the value for B :\")\n",
        "  a = int(a1)\n",
        "  b = int(b1)\n",
        "  c = a / b\n",
        "  print(\"The Result of \",a,\" / \",b,\" is \",c)\n",
        "elif (n == 4):\n",
        "  print(\"You have chosen multiplication Option....\")\n",
        "  a1 = input(\"Enter the value for A :\")\n",
        "  b1 = input(\"Enter the value for B :\")\n",
        "  a = int(a1)\n",
        "  b = int(b1)\n",
        "  c = a * b\n",
        "  print(\"The Result of \",a,\" * \",b,\" is \",c)\n",
        "elif (n == 5):\n",
        "  print(\"Exited\")\n",
        "  exit()\n",
        "else:\n",
        "  print(\"You have entered a wrong number\")"
      ]
    }
  ]
}
