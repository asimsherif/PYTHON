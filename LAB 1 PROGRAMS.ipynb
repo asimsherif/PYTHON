{
  "nbformat": 4,
  "nbformat_minor": 0,
  "metadata": {
    "colab": {
      "name": "EXAMPLEPY.ipynb",
      "provenance": [],
      "authorship_tag": "ABX9TyOOLVJzaUVjDcnp0KLW3NKg",
      "include_colab_link": true
    },
    "kernelspec": {
      "name": "python3",
      "display_name": "Python 3"
    },
    "language_info": {
      "name": "python"
    }
  },
  "cells": [
    {
      "cell_type": "markdown",
      "metadata": {
        "id": "view-in-github",
        "colab_type": "text"
      },
      "source": [
        "<a href=\"https://colab.research.google.com/github/asimsherif/PYTHON/blob/main/LAB%201%20PROGRAMS.ipynb\" target=\"_parent\"><img src=\"https://colab.research.google.com/assets/colab-badge.svg\" alt=\"Open In Colab\"/></a>"
      ]
    },
    {
      "cell_type": "code",
      "execution_count": null,
      "metadata": {
        "colab": {
          "base_uri": "https://localhost:8080/"
        },
        "id": "AtxRUp8g10TR",
        "outputId": "b344cd4d-7460-4cc5-de3c-584a33785f6a"
      },
      "outputs": [
        {
          "output_type": "stream",
          "name": "stdout",
          "text": [
            "The sum of 1 and 6 is 7\n"
          ]
        }
      ],
      "source": [
        "num1 = 1\n",
        "num2 = 6\n",
        "sum=num1+num2\n",
        "print('The sum of {0} and {1} is {2}'.format(num1,num2,sum))"
      ]
    },
    {
      "cell_type": "code",
      "source": [
        "num1 = input('Enter first number: ')\n",
        "num2 = input('enter second number: ')\n",
        "sum = float(num1)+float(num2)\n",
        "print('The sum of {0} and {1} is {2}'.format(num1,num2,sum))"
      ],
      "metadata": {
        "colab": {
          "base_uri": "https://localhost:8080/"
        },
        "id": "8KSWtHwL3X5_",
        "outputId": "acff8374-1e60-43c7-8376-e507c4e58605"
      },
      "execution_count": null,
      "outputs": [
        {
          "output_type": "stream",
          "name": "stdout",
          "text": [
            "Enter first number: 2.3\n",
            "enter second number: 2.2\n",
            "The sum of 2.3 and 2.2 is 4.5\n"
          ]
        }
      ]
    },
    {
      "cell_type": "code",
      "source": [
        "import cmath\n",
        "num = 1+3j\n",
        "num_sqrt = cmath.sqrt(num)\n",
        "print('the square root of {0} is {1:0.3f}+{2:0.3f}j'.format(num,num_sqrt.real,num_sqrt.imag))"
      ],
      "metadata": {
        "id": "ip6yn8FK5t1R",
        "colab": {
          "base_uri": "https://localhost:8080/"
        },
        "outputId": "1679c08d-7e70-42ff-9b8f-93c281d0a9b4"
      },
      "execution_count": null,
      "outputs": [
        {
          "output_type": "stream",
          "name": "stdout",
          "text": [
            "the square root of (1+3j) is 1.443+1.040j\n"
          ]
        }
      ]
    },
    {
      "cell_type": "code",
      "source": [
        "x = 6\n",
        "y = 3\n",
        "temp = x\n",
        "x = y\n",
        "y = temp\n",
        "print('the value of x after swapping:{}'.format(x))\n",
        "print('the value of y after x swapping:{}'.format(y))"
      ],
      "metadata": {
        "colab": {
          "base_uri": "https://localhost:8080/"
        },
        "id": "Z6s-blR1_dIM",
        "outputId": "c6bcce01-1e76-405f-f62f-c23c68231f37"
      },
      "execution_count": null,
      "outputs": [
        {
          "output_type": "stream",
          "name": "stdout",
          "text": [
            "the value of x after swapping:3\n",
            "the value of y after x swapping:6\n"
          ]
        }
      ]
    },
    {
      "cell_type": "code",
      "source": [
        "a = 5\n",
        "b = 6\n",
        "c = 8\n",
        "s = (a+b+c) / 2\n",
        "area = (s*(s-a)*(s-b)*(s-c)) ** 0.5\n",
        "print('the area of the triangle is %0.2f' %area)"
      ],
      "metadata": {
        "colab": {
          "base_uri": "https://localhost:8080/"
        },
        "id": "vH1LEVJYC4hu",
        "outputId": "8ae1f185-97e3-449e-b39b-4959433c25a1"
      },
      "execution_count": null,
      "outputs": [
        {
          "output_type": "stream",
          "name": "stdout",
          "text": [
            "the area of the triangle is 14.98\n"
          ]
        }
      ]
    },
    {
      "cell_type": "code",
      "source": [
        "website = \"ASIMSHERIF.COM\"\n",
        "print(website)"
      ],
      "metadata": {
        "colab": {
          "base_uri": "https://localhost:8080/"
        },
        "id": "6simE8QCEdVj",
        "outputId": "97278491-1cf9-481e-dceb-cd480fcc9a14"
      },
      "execution_count": null,
      "outputs": [
        {
          "output_type": "stream",
          "name": "stdout",
          "text": [
            "ASIMSHERIF.COM\n"
          ]
        }
      ]
    },
    {
      "cell_type": "code",
      "source": [
        "website = \"asimsherif.co\"\n",
        "print(website)\n",
        "website = \"kizi.com\"\n",
        "print(website)"
      ],
      "metadata": {
        "colab": {
          "base_uri": "https://localhost:8080/"
        },
        "id": "WrYIoWKBE-DG",
        "outputId": "5d15a176-ff74-429f-9d40-76b22df5be1d"
      },
      "execution_count": null,
      "outputs": [
        {
          "output_type": "stream",
          "name": "stdout",
          "text": [
            "asimsherif.co\n",
            "kizi.com\n"
          ]
        }
      ]
    },
    {
      "cell_type": "code",
      "source": [
        "a, b, c , = 4,5,6.4  \n",
        "print(a)\n",
        "print(b)\n",
        "print(c)\n"
      ],
      "metadata": {
        "colab": {
          "base_uri": "https://localhost:8080/"
        },
        "id": "-n4LdMqCGhpe",
        "outputId": "17cc3fe5-7afa-4c0e-b612-f7c8b5246fd9"
      },
      "execution_count": 44,
      "outputs": [
        {
          "output_type": "stream",
          "name": "stdout",
          "text": [
            "4\n",
            "5\n",
            "6.4\n"
          ]
        }
      ]
    },
    {
      "cell_type": "code",
      "source": [
        "drink = \"none\"\n",
        "food = \"none\"\n",
        "\n",
        "def menu(x):\n",
        " if x == drink:\n",
        "  print(drink)\n",
        " else:\n",
        "  print(food)\n",
        "menu(drink)\n",
        "menu(food) "
      ],
      "metadata": {
        "colab": {
          "base_uri": "https://localhost:8080/"
        },
        "id": "4YsM7rczPdmQ",
        "outputId": "7a870899-db1d-49d9-a044-2ac5c9cc24e5"
      },
      "execution_count": 60,
      "outputs": [
        {
          "output_type": "stream",
          "name": "stdout",
          "text": [
            "none\n",
            "none\n"
          ]
        }
      ]
    }
  ]
}